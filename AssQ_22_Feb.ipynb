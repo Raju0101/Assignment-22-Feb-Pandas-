{
 "cells": [
  {
   "cell_type": "markdown",
   "id": "5bed52c2-bbe6-4d1c-92ab-1cb132e57fab",
   "metadata": {},
   "source": [
    "# Assignment 22 Feb -- \"Basic Pandas\""
   ]
  },
  {
   "cell_type": "code",
   "execution_count": 2,
   "id": "0475662b-f126-4f4c-a278-2f8b93c0d615",
   "metadata": {},
   "outputs": [],
   "source": [
    "#Q1. Create a Pandas Series that contains the following data: 4, 8, 15, 16, 23, and 42. Then, print the series."
   ]
  },
  {
   "cell_type": "code",
   "execution_count": 10,
   "id": "96816e11-5caa-41e5-81de-aef9eba29c0c",
   "metadata": {},
   "outputs": [
    {
     "name": "stdout",
     "output_type": "stream",
     "text": [
      "0     4\n",
      "1     8\n",
      "2    15\n",
      "3    16\n",
      "4    23\n",
      "5    42\n",
      "dtype: int64\n"
     ]
    }
   ],
   "source": [
    "import pandas as pd\n",
    "s = pd. Series([4,8,15,16,23,42])\n",
    "print(s)"
   ]
  },
  {
   "cell_type": "code",
   "execution_count": null,
   "id": "2ebb733a-6bd5-4468-ab66-e1db76312c6b",
   "metadata": {},
   "outputs": [],
   "source": []
  },
  {
   "cell_type": "code",
   "execution_count": 11,
   "id": "e44d14e2-17c5-4394-9f2e-9f11feae10bb",
   "metadata": {},
   "outputs": [],
   "source": [
    "# Q2. Create a variable of list type containing 10 elements in it, and apply pandas.Series function on the variable print it."
   ]
  },
  {
   "cell_type": "code",
   "execution_count": 15,
   "id": "8bee8f51-8f73-4dcc-885a-bd7ed2b4e4bd",
   "metadata": {},
   "outputs": [
    {
     "name": "stdout",
     "output_type": "stream",
     "text": [
      "0     1\n",
      "1     2\n",
      "2     3\n",
      "3     4\n",
      "4     5\n",
      "5     6\n",
      "6     7\n",
      "7     8\n",
      "8     9\n",
      "9    10\n",
      "dtype: int64\n"
     ]
    }
   ],
   "source": [
    "import pandas as pd\n",
    "\n",
    "l = [1,2,3,4,5,6,7,8,9,10]\n",
    "l1 = pd.Series(l)\n",
    "print(l1)\n"
   ]
  },
  {
   "cell_type": "code",
   "execution_count": null,
   "id": "943eaf56-ec5c-4739-852d-9ef3d51bbd39",
   "metadata": {},
   "outputs": [],
   "source": []
  },
  {
   "cell_type": "code",
   "execution_count": 16,
   "id": "e33e0213-6574-4dca-8940-43ddc6f096fc",
   "metadata": {},
   "outputs": [],
   "source": [
    "# Q.3"
   ]
  },
  {
   "cell_type": "code",
   "execution_count": 20,
   "id": "571fe00a-038c-4270-837f-298447b5f6d4",
   "metadata": {},
   "outputs": [],
   "source": [
    "import pandas as pd\n",
    "df = pd.read_excel(\"Practice in Python.xlsx\")"
   ]
  },
  {
   "cell_type": "code",
   "execution_count": 22,
   "id": "7c8f88b8-73c9-471f-a3b2-e7675760d406",
   "metadata": {},
   "outputs": [
    {
     "name": "stdout",
     "output_type": "stream",
     "text": [
      "     Name  Age  Gender\n",
      "0   Alice   25  Female\n",
      "1     Bob   30    Male\n",
      "2  Claire   27  Female\n"
     ]
    }
   ],
   "source": [
    "print(df)"
   ]
  },
  {
   "cell_type": "code",
   "execution_count": null,
   "id": "117821dc-6d3d-499b-ba19-fb3c3ed376d1",
   "metadata": {},
   "outputs": [],
   "source": []
  },
  {
   "cell_type": "code",
   "execution_count": 23,
   "id": "ee680132-e9ab-4a73-9d3e-7bb3e291545f",
   "metadata": {},
   "outputs": [],
   "source": [
    "# Q4. What is ‘DataFrame’ in pandas and how is it different from pandas.series? Explain with an example."
   ]
  },
  {
   "cell_type": "code",
   "execution_count": 24,
   "id": "8ccca70a-93a7-4d14-9227-5dbf8ecb8b0f",
   "metadata": {},
   "outputs": [
    {
     "ename": "SyntaxError",
     "evalue": "invalid syntax (2513019119.py, line 6)",
     "output_type": "error",
     "traceback": [
      "\u001b[0;36m  Cell \u001b[0;32mIn[24], line 6\u001b[0;36m\u001b[0m\n\u001b[0;31m    A  B  C  D\u001b[0m\n\u001b[0m       ^\u001b[0m\n\u001b[0;31mSyntaxError\u001b[0m\u001b[0;31m:\u001b[0m invalid syntax\n"
     ]
    }
   ],
   "source": [
    "# DataFrame:- \n",
    "\n",
    "#  A Pandas DataFrame is a 2 dimensional data structure, like a 2 dimensional array, or a table with rows and columns.\n",
    "# Pandas example-\n",
    "\n",
    "A  B  C  D\n",
    "1  2  3  4\n",
    "11 12 13 14\n",
    "21 22 23 24\n",
    "\n",
    "# Series can only contain single list with index, whereas dataframe can be made of more than one series \n",
    "# or we can say that a dataframe is a collection  of series that can be used to analyse the data.\n",
    "\n",
    "Series example:-\n",
    "S= [1,2,3,4]\n"
   ]
  },
  {
   "cell_type": "code",
   "execution_count": null,
   "id": "6accf268-308e-4cab-abdb-c44eb2db200f",
   "metadata": {},
   "outputs": [],
   "source": [
    "\n"
   ]
  },
  {
   "cell_type": "code",
   "execution_count": 25,
   "id": "d6f33e3c-c54d-4b67-8d34-ccccfc266d41",
   "metadata": {},
   "outputs": [],
   "source": [
    "# Q5. What are some common functions you can use to manipulate data in a Pandas DataFrame? Can\n",
    "# you give an example of when you might use one of these functions?"
   ]
  },
  {
   "cell_type": "code",
   "execution_count": 26,
   "id": "4baaa59a-ecaa-4514-9cf2-f7b480ab2f6e",
   "metadata": {},
   "outputs": [],
   "source": [
    "# The 9 must know functions to handle any pandas dataframe\n",
    "# Five functions to get to know your dataset.\n",
    "# Filter your dataframe by value.\n",
    "# Had datetime type.\n",
    "# Merge multiple datasets.\n",
    "# Handle columns.\n",
    "# Group by value.\n",
    "# Apply a function.\n",
    "# Use the lambda method."
   ]
  },
  {
   "cell_type": "code",
   "execution_count": 27,
   "id": "d334795f-3008-4ce4-8d40-910cf9accc8a",
   "metadata": {},
   "outputs": [],
   "source": [
    "# Lambda Function:-\n",
    "# We use Lambda Function when we need to use only once the function, like temporary use .\n",
    "# A lambda function is a small anonymous function. A lambda function can take any number of arguments, but can only have one expression."
   ]
  },
  {
   "cell_type": "code",
   "execution_count": null,
   "id": "8ee02a68-e20c-475e-82c0-c3eabbcfc716",
   "metadata": {},
   "outputs": [],
   "source": []
  },
  {
   "cell_type": "code",
   "execution_count": 28,
   "id": "9e1508c2-72f2-412a-9d57-33583b6a3b5a",
   "metadata": {},
   "outputs": [],
   "source": [
    "# Q6. Which of the following is mutable in nature Series, DataFrame, Panel?"
   ]
  },
  {
   "cell_type": "code",
   "execution_count": null,
   "id": "db1be186-db33-4aa1-9ca0-1754e5397ee2",
   "metadata": {},
   "outputs": [],
   "source": [
    "#  DataFrame is mutable in nature."
   ]
  },
  {
   "cell_type": "code",
   "execution_count": null,
   "id": "167a0997-bf65-4401-ab4d-a0b096061023",
   "metadata": {},
   "outputs": [],
   "source": []
  },
  {
   "cell_type": "code",
   "execution_count": 29,
   "id": "e0cf7845-9afe-4934-8885-1bd319b82caa",
   "metadata": {},
   "outputs": [],
   "source": [
    "# Q7. Create a DataFrame using multiple Series. Explain with an example."
   ]
  },
  {
   "cell_type": "code",
   "execution_count": 31,
   "id": "e5890510-6582-48f4-a146-71a792a546e0",
   "metadata": {},
   "outputs": [
    {
     "name": "stdout",
     "output_type": "stream",
     "text": [
      "    name  marks\n",
      "0   raju    100\n",
      "1  rahul    200\n",
      "2  uttam    300\n",
      "3   sudh    400\n"
     ]
    }
   ],
   "source": [
    "\n",
    "import pandas as pd\n",
    " \n",
    "\n",
    "name = [\"raju\", \"rahul\", \"uttam\", \"sudh\"]\n",
    "marks = [100, 200, 300, 400]\n",
    "\n",
    "name_series = pd.Series(name)\n",
    "marks_series = pd.Series(marks)\n",
    "\n",
    "df = { 'name': name_series, 'marks': marks_series }\n",
    "\n",
    "result = pd.DataFrame(df)\n",
    "\n",
    "print(result)"
   ]
  },
  {
   "cell_type": "code",
   "execution_count": null,
   "id": "84262c93-c961-48dd-81f2-bbe22c261a09",
   "metadata": {},
   "outputs": [],
   "source": []
  }
 ],
 "metadata": {
  "kernelspec": {
   "display_name": "Python 3 (ipykernel)",
   "language": "python",
   "name": "python3"
  },
  "language_info": {
   "codemirror_mode": {
    "name": "ipython",
    "version": 3
   },
   "file_extension": ".py",
   "mimetype": "text/x-python",
   "name": "python",
   "nbconvert_exporter": "python",
   "pygments_lexer": "ipython3",
   "version": "3.10.8"
  }
 },
 "nbformat": 4,
 "nbformat_minor": 5
}
